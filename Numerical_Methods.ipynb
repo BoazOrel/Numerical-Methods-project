{
 "cells": [
  {
   "cell_type": "markdown",
   "metadata": {},
   "source": [
    "Rusty Bargain used car sales service is developing an app to attract new customers. In that app, you can quickly find out the market value of your car. You have access to historical data: technical specifications, trim versions, and prices. You need to build the model to determine the value. \n",
    "\n",
    "Rusty Bargain is interested in:\n",
    "\n",
    "- the quality of the prediction;\n",
    "- the speed of the prediction;\n",
    "- the time required for training"
   ]
  },
  {
   "cell_type": "markdown",
   "metadata": {},
   "source": [
    "## Data preparation"
   ]
  },
  {
   "cell_type": "code",
   "execution_count": 1,
   "metadata": {},
   "outputs": [],
   "source": [
    "# Loading libraries\n",
    "import pandas as pd\n",
    "import numpy as np\n",
    "from scipy import stats\n",
    "from sklearn.impute import SimpleImputer\n",
    "import seaborn as sns\n",
    "import matplotlib.pyplot as plt\n",
    "from sklearn.preprocessing import OneHotEncoder, MaxAbsScaler, StandardScaler, OrdinalEncoder\n",
    "from sklearn.metrics import mean_squared_error, make_scorer\n",
    "from sklearn.model_selection import train_test_split, GridSearchCV, cross_validate\n",
    "from sklearn.ensemble import RandomForestRegressor\n",
    "from sklearn.pipeline import Pipeline\n",
    "import lightgbm as lgb\n",
    "from catboost import CatBoostRegressor\n",
    "from sklearn.linear_model import LinearRegression\n",
    "from sklearn.tree import DecisionTreeRegressor"
   ]
  },
  {
   "cell_type": "code",
   "execution_count": 2,
   "metadata": {},
   "outputs": [],
   "source": [
    "# Loading data\n",
    "df = pd.read_csv('car_data.csv')"
   ]
  },
  {
   "cell_type": "code",
   "execution_count": 3,
   "metadata": {
    "scrolled": false
   },
   "outputs": [
    {
     "name": "stdout",
     "output_type": "stream",
     "text": [
      "<class 'pandas.core.frame.DataFrame'>\n",
      "RangeIndex: 354369 entries, 0 to 354368\n",
      "Data columns (total 16 columns):\n",
      " #   Column             Non-Null Count   Dtype \n",
      "---  ------             --------------   ----- \n",
      " 0   DateCrawled        354369 non-null  object\n",
      " 1   Price              354369 non-null  int64 \n",
      " 2   VehicleType        316879 non-null  object\n",
      " 3   RegistrationYear   354369 non-null  int64 \n",
      " 4   Gearbox            334536 non-null  object\n",
      " 5   Power              354369 non-null  int64 \n",
      " 6   Model              334664 non-null  object\n",
      " 7   Mileage            354369 non-null  int64 \n",
      " 8   RegistrationMonth  354369 non-null  int64 \n",
      " 9   FuelType           321474 non-null  object\n",
      " 10  Brand              354369 non-null  object\n",
      " 11  NotRepaired        283215 non-null  object\n",
      " 12  DateCreated        354369 non-null  object\n",
      " 13  NumberOfPictures   354369 non-null  int64 \n",
      " 14  PostalCode         354369 non-null  int64 \n",
      " 15  LastSeen           354369 non-null  object\n",
      "dtypes: int64(7), object(9)\n",
      "memory usage: 214.0 MB\n"
     ]
    }
   ],
   "source": [
    "# Basic information\n",
    "df.info(memory_usage='deep')"
   ]
  },
  {
   "cell_type": "code",
   "execution_count": 4,
   "metadata": {
    "scrolled": true
   },
   "outputs": [
    {
     "data": {
      "text/html": [
       "<div>\n",
       "<style scoped>\n",
       "    .dataframe tbody tr th:only-of-type {\n",
       "        vertical-align: middle;\n",
       "    }\n",
       "\n",
       "    .dataframe tbody tr th {\n",
       "        vertical-align: top;\n",
       "    }\n",
       "\n",
       "    .dataframe thead th {\n",
       "        text-align: right;\n",
       "    }\n",
       "</style>\n",
       "<table border=\"1\" class=\"dataframe\">\n",
       "  <thead>\n",
       "    <tr style=\"text-align: right;\">\n",
       "      <th></th>\n",
       "      <th>DateCrawled</th>\n",
       "      <th>Price</th>\n",
       "      <th>VehicleType</th>\n",
       "      <th>RegistrationYear</th>\n",
       "      <th>Gearbox</th>\n",
       "      <th>Power</th>\n",
       "      <th>Model</th>\n",
       "      <th>Mileage</th>\n",
       "      <th>RegistrationMonth</th>\n",
       "      <th>FuelType</th>\n",
       "      <th>Brand</th>\n",
       "      <th>NotRepaired</th>\n",
       "      <th>DateCreated</th>\n",
       "      <th>NumberOfPictures</th>\n",
       "      <th>PostalCode</th>\n",
       "      <th>LastSeen</th>\n",
       "    </tr>\n",
       "  </thead>\n",
       "  <tbody>\n",
       "    <tr>\n",
       "      <th>0</th>\n",
       "      <td>24/03/2016 11:52</td>\n",
       "      <td>480</td>\n",
       "      <td>NaN</td>\n",
       "      <td>1993</td>\n",
       "      <td>manual</td>\n",
       "      <td>0</td>\n",
       "      <td>golf</td>\n",
       "      <td>150000</td>\n",
       "      <td>0</td>\n",
       "      <td>petrol</td>\n",
       "      <td>volkswagen</td>\n",
       "      <td>NaN</td>\n",
       "      <td>24/03/2016 00:00</td>\n",
       "      <td>0</td>\n",
       "      <td>70435</td>\n",
       "      <td>07/04/2016 03:16</td>\n",
       "    </tr>\n",
       "    <tr>\n",
       "      <th>1</th>\n",
       "      <td>24/03/2016 10:58</td>\n",
       "      <td>18300</td>\n",
       "      <td>coupe</td>\n",
       "      <td>2011</td>\n",
       "      <td>manual</td>\n",
       "      <td>190</td>\n",
       "      <td>NaN</td>\n",
       "      <td>125000</td>\n",
       "      <td>5</td>\n",
       "      <td>gasoline</td>\n",
       "      <td>audi</td>\n",
       "      <td>yes</td>\n",
       "      <td>24/03/2016 00:00</td>\n",
       "      <td>0</td>\n",
       "      <td>66954</td>\n",
       "      <td>07/04/2016 01:46</td>\n",
       "    </tr>\n",
       "    <tr>\n",
       "      <th>2</th>\n",
       "      <td>14/03/2016 12:52</td>\n",
       "      <td>9800</td>\n",
       "      <td>suv</td>\n",
       "      <td>2004</td>\n",
       "      <td>auto</td>\n",
       "      <td>163</td>\n",
       "      <td>grand</td>\n",
       "      <td>125000</td>\n",
       "      <td>8</td>\n",
       "      <td>gasoline</td>\n",
       "      <td>jeep</td>\n",
       "      <td>NaN</td>\n",
       "      <td>14/03/2016 00:00</td>\n",
       "      <td>0</td>\n",
       "      <td>90480</td>\n",
       "      <td>05/04/2016 12:47</td>\n",
       "    </tr>\n",
       "    <tr>\n",
       "      <th>3</th>\n",
       "      <td>17/03/2016 16:54</td>\n",
       "      <td>1500</td>\n",
       "      <td>small</td>\n",
       "      <td>2001</td>\n",
       "      <td>manual</td>\n",
       "      <td>75</td>\n",
       "      <td>golf</td>\n",
       "      <td>150000</td>\n",
       "      <td>6</td>\n",
       "      <td>petrol</td>\n",
       "      <td>volkswagen</td>\n",
       "      <td>no</td>\n",
       "      <td>17/03/2016 00:00</td>\n",
       "      <td>0</td>\n",
       "      <td>91074</td>\n",
       "      <td>17/03/2016 17:40</td>\n",
       "    </tr>\n",
       "    <tr>\n",
       "      <th>4</th>\n",
       "      <td>31/03/2016 17:25</td>\n",
       "      <td>3600</td>\n",
       "      <td>small</td>\n",
       "      <td>2008</td>\n",
       "      <td>manual</td>\n",
       "      <td>69</td>\n",
       "      <td>fabia</td>\n",
       "      <td>90000</td>\n",
       "      <td>7</td>\n",
       "      <td>gasoline</td>\n",
       "      <td>skoda</td>\n",
       "      <td>no</td>\n",
       "      <td>31/03/2016 00:00</td>\n",
       "      <td>0</td>\n",
       "      <td>60437</td>\n",
       "      <td>06/04/2016 10:17</td>\n",
       "    </tr>\n",
       "  </tbody>\n",
       "</table>\n",
       "</div>"
      ],
      "text/plain": [
       "        DateCrawled  Price VehicleType  RegistrationYear Gearbox  Power  \\\n",
       "0  24/03/2016 11:52    480         NaN              1993  manual      0   \n",
       "1  24/03/2016 10:58  18300       coupe              2011  manual    190   \n",
       "2  14/03/2016 12:52   9800         suv              2004    auto    163   \n",
       "3  17/03/2016 16:54   1500       small              2001  manual     75   \n",
       "4  31/03/2016 17:25   3600       small              2008  manual     69   \n",
       "\n",
       "   Model  Mileage  RegistrationMonth  FuelType       Brand NotRepaired  \\\n",
       "0   golf   150000                  0    petrol  volkswagen         NaN   \n",
       "1    NaN   125000                  5  gasoline        audi         yes   \n",
       "2  grand   125000                  8  gasoline        jeep         NaN   \n",
       "3   golf   150000                  6    petrol  volkswagen          no   \n",
       "4  fabia    90000                  7  gasoline       skoda          no   \n",
       "\n",
       "        DateCreated  NumberOfPictures  PostalCode          LastSeen  \n",
       "0  24/03/2016 00:00                 0       70435  07/04/2016 03:16  \n",
       "1  24/03/2016 00:00                 0       66954  07/04/2016 01:46  \n",
       "2  14/03/2016 00:00                 0       90480  05/04/2016 12:47  \n",
       "3  17/03/2016 00:00                 0       91074  17/03/2016 17:40  \n",
       "4  31/03/2016 00:00                 0       60437  06/04/2016 10:17  "
      ]
     },
     "execution_count": 4,
     "metadata": {},
     "output_type": "execute_result"
    }
   ],
   "source": [
    "df.head()"
   ]
  },
  {
   "cell_type": "markdown",
   "metadata": {},
   "source": [
    "### Preprocessing"
   ]
  },
  {
   "cell_type": "code",
   "execution_count": 5,
   "metadata": {
    "scrolled": true
   },
   "outputs": [
    {
     "name": "stdout",
     "output_type": "stream",
     "text": [
      "Wall time: 1min\n"
     ]
    }
   ],
   "source": [
    "%%time\n",
    "# Changing to date time\n",
    "df[['DateCrawled','DateCreated','LastSeen']] = df[['DateCrawled','DateCreated','LastSeen']].apply(pd.to_datetime)"
   ]
  },
  {
   "cell_type": "code",
   "execution_count": 6,
   "metadata": {
    "scrolled": false
   },
   "outputs": [
    {
     "data": {
      "text/html": [
       "<div>\n",
       "<style scoped>\n",
       "    .dataframe tbody tr th:only-of-type {\n",
       "        vertical-align: middle;\n",
       "    }\n",
       "\n",
       "    .dataframe tbody tr th {\n",
       "        vertical-align: top;\n",
       "    }\n",
       "\n",
       "    .dataframe thead th {\n",
       "        text-align: right;\n",
       "    }\n",
       "</style>\n",
       "<table border=\"1\" class=\"dataframe\">\n",
       "  <thead>\n",
       "    <tr style=\"text-align: right;\">\n",
       "      <th></th>\n",
       "      <th>date_crawled</th>\n",
       "      <th>price</th>\n",
       "      <th>vehicle_type</th>\n",
       "      <th>registration_year</th>\n",
       "      <th>gearbox</th>\n",
       "      <th>power</th>\n",
       "      <th>model</th>\n",
       "      <th>mileage</th>\n",
       "      <th>registration_month</th>\n",
       "      <th>fuel_type</th>\n",
       "      <th>brand</th>\n",
       "      <th>repaired</th>\n",
       "      <th>date_created</th>\n",
       "      <th>n_pictures</th>\n",
       "      <th>postal_code</th>\n",
       "      <th>last_seen</th>\n",
       "    </tr>\n",
       "  </thead>\n",
       "  <tbody>\n",
       "    <tr>\n",
       "      <th>0</th>\n",
       "      <td>2016-03-24 11:52:00</td>\n",
       "      <td>480</td>\n",
       "      <td>NaN</td>\n",
       "      <td>1993</td>\n",
       "      <td>manual</td>\n",
       "      <td>0</td>\n",
       "      <td>golf</td>\n",
       "      <td>150000</td>\n",
       "      <td>0</td>\n",
       "      <td>petrol</td>\n",
       "      <td>volkswagen</td>\n",
       "      <td>NaN</td>\n",
       "      <td>2016-03-24</td>\n",
       "      <td>0</td>\n",
       "      <td>70435</td>\n",
       "      <td>2016-07-04 03:16:00</td>\n",
       "    </tr>\n",
       "    <tr>\n",
       "      <th>1</th>\n",
       "      <td>2016-03-24 10:58:00</td>\n",
       "      <td>18300</td>\n",
       "      <td>coupe</td>\n",
       "      <td>2011</td>\n",
       "      <td>manual</td>\n",
       "      <td>190</td>\n",
       "      <td>NaN</td>\n",
       "      <td>125000</td>\n",
       "      <td>5</td>\n",
       "      <td>gasoline</td>\n",
       "      <td>audi</td>\n",
       "      <td>yes</td>\n",
       "      <td>2016-03-24</td>\n",
       "      <td>0</td>\n",
       "      <td>66954</td>\n",
       "      <td>2016-07-04 01:46:00</td>\n",
       "    </tr>\n",
       "  </tbody>\n",
       "</table>\n",
       "</div>"
      ],
      "text/plain": [
       "         date_crawled  price vehicle_type  registration_year gearbox  power  \\\n",
       "0 2016-03-24 11:52:00    480          NaN               1993  manual      0   \n",
       "1 2016-03-24 10:58:00  18300        coupe               2011  manual    190   \n",
       "\n",
       "  model  mileage  registration_month fuel_type       brand repaired  \\\n",
       "0  golf   150000                   0    petrol  volkswagen      NaN   \n",
       "1   NaN   125000                   5  gasoline        audi      yes   \n",
       "\n",
       "  date_created  n_pictures  postal_code           last_seen  \n",
       "0   2016-03-24           0        70435 2016-07-04 03:16:00  \n",
       "1   2016-03-24           0        66954 2016-07-04 01:46:00  "
      ]
     },
     "execution_count": 6,
     "metadata": {},
     "output_type": "execute_result"
    }
   ],
   "source": [
    "# Changing columns names for convenience\n",
    "df.rename(columns = {'DateCrawled':'date_crawled','VehicleType':'vehicle_type',\n",
    "                     'RegistrationYear':'registration_year','RegistrationMonth':'registration_month',\n",
    "                     'FuelType':'fuel_type','NotRepaired':'repaired','DateCreated':'date_created',\n",
    "                     'NumberOfPictures':'n_pictures','PostalCode':'postal_code','LastSeen':'last_seen'},\n",
    "         inplace = True)\n",
    "df.columns= df.columns.str.lower() #Changing col names to lower case letters\n",
    "df.head(2)"
   ]
  },
  {
   "cell_type": "code",
   "execution_count": 7,
   "metadata": {},
   "outputs": [],
   "source": [
    "# Creating 'active time' feature\n",
    "df['active_time(days)'] = (df['last_seen'] - df['date_created']).dt.days"
   ]
  },
  {
   "cell_type": "code",
   "execution_count": 8,
   "metadata": {},
   "outputs": [],
   "source": [
    "# Creating 'car age' feature\n",
    "df['car_age'] =   df['date_created'].dt.year -df['registration_year']"
   ]
  },
  {
   "cell_type": "code",
   "execution_count": 9,
   "metadata": {
    "scrolled": true
   },
   "outputs": [
    {
     "data": {
      "text/html": [
       "<div>\n",
       "<style scoped>\n",
       "    .dataframe tbody tr th:only-of-type {\n",
       "        vertical-align: middle;\n",
       "    }\n",
       "\n",
       "    .dataframe tbody tr th {\n",
       "        vertical-align: top;\n",
       "    }\n",
       "\n",
       "    .dataframe thead th {\n",
       "        text-align: right;\n",
       "    }\n",
       "</style>\n",
       "<table border=\"1\" class=\"dataframe\">\n",
       "  <thead>\n",
       "    <tr style=\"text-align: right;\">\n",
       "      <th></th>\n",
       "      <th>date_crawled</th>\n",
       "      <th>price</th>\n",
       "      <th>vehicle_type</th>\n",
       "      <th>registration_year</th>\n",
       "      <th>gearbox</th>\n",
       "      <th>power</th>\n",
       "      <th>model</th>\n",
       "      <th>mileage</th>\n",
       "      <th>registration_month</th>\n",
       "      <th>fuel_type</th>\n",
       "      <th>brand</th>\n",
       "      <th>repaired</th>\n",
       "      <th>date_created</th>\n",
       "      <th>n_pictures</th>\n",
       "      <th>postal_code</th>\n",
       "      <th>last_seen</th>\n",
       "      <th>active_time(days)</th>\n",
       "      <th>car_age</th>\n",
       "    </tr>\n",
       "  </thead>\n",
       "  <tbody>\n",
       "    <tr>\n",
       "      <th>177648</th>\n",
       "      <td>2016-09-03 21:36:00</td>\n",
       "      <td>1800</td>\n",
       "      <td>sedan</td>\n",
       "      <td>2002</td>\n",
       "      <td>manual</td>\n",
       "      <td>75</td>\n",
       "      <td>fiesta</td>\n",
       "      <td>150000</td>\n",
       "      <td>12</td>\n",
       "      <td>gasoline</td>\n",
       "      <td>ford</td>\n",
       "      <td>no</td>\n",
       "      <td>2016-09-03</td>\n",
       "      <td>0</td>\n",
       "      <td>10365</td>\n",
       "      <td>2016-03-13 01:45:00</td>\n",
       "      <td>-174</td>\n",
       "      <td>14</td>\n",
       "    </tr>\n",
       "    <tr>\n",
       "      <th>128742</th>\n",
       "      <td>2016-03-14 16:54:00</td>\n",
       "      <td>260</td>\n",
       "      <td>small</td>\n",
       "      <td>1995</td>\n",
       "      <td>manual</td>\n",
       "      <td>0</td>\n",
       "      <td>astra</td>\n",
       "      <td>150000</td>\n",
       "      <td>10</td>\n",
       "      <td>NaN</td>\n",
       "      <td>opel</td>\n",
       "      <td>NaN</td>\n",
       "      <td>2016-03-14</td>\n",
       "      <td>0</td>\n",
       "      <td>26810</td>\n",
       "      <td>2016-03-29 13:46:00</td>\n",
       "      <td>15</td>\n",
       "      <td>21</td>\n",
       "    </tr>\n",
       "  </tbody>\n",
       "</table>\n",
       "</div>"
      ],
      "text/plain": [
       "              date_crawled  price vehicle_type  registration_year gearbox  \\\n",
       "177648 2016-09-03 21:36:00   1800        sedan               2002  manual   \n",
       "128742 2016-03-14 16:54:00    260        small               1995  manual   \n",
       "\n",
       "        power   model  mileage  registration_month fuel_type brand repaired  \\\n",
       "177648     75  fiesta   150000                  12  gasoline  ford       no   \n",
       "128742      0   astra   150000                  10       NaN  opel      NaN   \n",
       "\n",
       "       date_created  n_pictures  postal_code           last_seen  \\\n",
       "177648   2016-09-03           0        10365 2016-03-13 01:45:00   \n",
       "128742   2016-03-14           0        26810 2016-03-29 13:46:00   \n",
       "\n",
       "        active_time(days)  car_age  \n",
       "177648               -174       14  \n",
       "128742                 15       21  "
      ]
     },
     "execution_count": 9,
     "metadata": {},
     "output_type": "execute_result"
    }
   ],
   "source": [
    "df.sample(2)"
   ]
  },
  {
   "cell_type": "markdown",
   "metadata": {},
   "source": [
    "### Missing values"
   ]
  },
  {
   "cell_type": "code",
   "execution_count": 10,
   "metadata": {
    "scrolled": false
   },
   "outputs": [
    {
     "data": {
      "text/html": [
       "<div>\n",
       "<style scoped>\n",
       "    .dataframe tbody tr th:only-of-type {\n",
       "        vertical-align: middle;\n",
       "    }\n",
       "\n",
       "    .dataframe tbody tr th {\n",
       "        vertical-align: top;\n",
       "    }\n",
       "\n",
       "    .dataframe thead th {\n",
       "        text-align: right;\n",
       "    }\n",
       "</style>\n",
       "<table border=\"1\" class=\"dataframe\">\n",
       "  <thead>\n",
       "    <tr style=\"text-align: right;\">\n",
       "      <th></th>\n",
       "      <th>missing_values</th>\n",
       "      <th>%</th>\n",
       "    </tr>\n",
       "  </thead>\n",
       "  <tbody>\n",
       "    <tr>\n",
       "      <th>repaired</th>\n",
       "      <td>71154</td>\n",
       "      <td>20.1</td>\n",
       "    </tr>\n",
       "    <tr>\n",
       "      <th>vehicle_type</th>\n",
       "      <td>37490</td>\n",
       "      <td>10.6</td>\n",
       "    </tr>\n",
       "    <tr>\n",
       "      <th>fuel_type</th>\n",
       "      <td>32895</td>\n",
       "      <td>9.3</td>\n",
       "    </tr>\n",
       "    <tr>\n",
       "      <th>gearbox</th>\n",
       "      <td>19833</td>\n",
       "      <td>5.6</td>\n",
       "    </tr>\n",
       "    <tr>\n",
       "      <th>model</th>\n",
       "      <td>19705</td>\n",
       "      <td>5.6</td>\n",
       "    </tr>\n",
       "    <tr>\n",
       "      <th>active_time(days)</th>\n",
       "      <td>0</td>\n",
       "      <td>0.0</td>\n",
       "    </tr>\n",
       "    <tr>\n",
       "      <th>last_seen</th>\n",
       "      <td>0</td>\n",
       "      <td>0.0</td>\n",
       "    </tr>\n",
       "    <tr>\n",
       "      <th>postal_code</th>\n",
       "      <td>0</td>\n",
       "      <td>0.0</td>\n",
       "    </tr>\n",
       "    <tr>\n",
       "      <th>n_pictures</th>\n",
       "      <td>0</td>\n",
       "      <td>0.0</td>\n",
       "    </tr>\n",
       "    <tr>\n",
       "      <th>date_created</th>\n",
       "      <td>0</td>\n",
       "      <td>0.0</td>\n",
       "    </tr>\n",
       "    <tr>\n",
       "      <th>date_crawled</th>\n",
       "      <td>0</td>\n",
       "      <td>0.0</td>\n",
       "    </tr>\n",
       "    <tr>\n",
       "      <th>brand</th>\n",
       "      <td>0</td>\n",
       "      <td>0.0</td>\n",
       "    </tr>\n",
       "    <tr>\n",
       "      <th>price</th>\n",
       "      <td>0</td>\n",
       "      <td>0.0</td>\n",
       "    </tr>\n",
       "    <tr>\n",
       "      <th>registration_month</th>\n",
       "      <td>0</td>\n",
       "      <td>0.0</td>\n",
       "    </tr>\n",
       "    <tr>\n",
       "      <th>mileage</th>\n",
       "      <td>0</td>\n",
       "      <td>0.0</td>\n",
       "    </tr>\n",
       "    <tr>\n",
       "      <th>power</th>\n",
       "      <td>0</td>\n",
       "      <td>0.0</td>\n",
       "    </tr>\n",
       "    <tr>\n",
       "      <th>registration_year</th>\n",
       "      <td>0</td>\n",
       "      <td>0.0</td>\n",
       "    </tr>\n",
       "    <tr>\n",
       "      <th>car_age</th>\n",
       "      <td>0</td>\n",
       "      <td>0.0</td>\n",
       "    </tr>\n",
       "  </tbody>\n",
       "</table>\n",
       "</div>"
      ],
      "text/plain": [
       "                    missing_values     %\n",
       "repaired                     71154  20.1\n",
       "vehicle_type                 37490  10.6\n",
       "fuel_type                    32895   9.3\n",
       "gearbox                      19833   5.6\n",
       "model                        19705   5.6\n",
       "active_time(days)                0   0.0\n",
       "last_seen                        0   0.0\n",
       "postal_code                      0   0.0\n",
       "n_pictures                       0   0.0\n",
       "date_created                     0   0.0\n",
       "date_crawled                     0   0.0\n",
       "brand                            0   0.0\n",
       "price                            0   0.0\n",
       "registration_month               0   0.0\n",
       "mileage                          0   0.0\n",
       "power                            0   0.0\n",
       "registration_year                0   0.0\n",
       "car_age                          0   0.0"
      ]
     },
     "execution_count": 10,
     "metadata": {},
     "output_type": "execute_result"
    }
   ],
   "source": [
    "# Checking missing values\n",
    "data_mis = df.isnull().sum().to_frame('missing_values')\n",
    "data_mis['%'] = round(df.isnull().sum()/len(df),3)*100\n",
    "data_mis.sort_values(by='%', ascending=False)"
   ]
  },
  {
   "cell_type": "code",
   "execution_count": 11,
   "metadata": {},
   "outputs": [],
   "source": [
    "# Creating a copy of data frame before changes\n",
    "raw_df = df.copy()"
   ]
  },
  {
   "cell_type": "code",
   "execution_count": 12,
   "metadata": {},
   "outputs": [],
   "source": [
    "df = raw_df.copy()"
   ]
  },
  {
   "cell_type": "code",
   "execution_count": 13,
   "metadata": {},
   "outputs": [],
   "source": [
    "# Dealing with missing values\n",
    "\n",
    "# Transform 'repaired' missing values into 'unknown'\n",
    "df['repaired'] = df['repaired'].fillna('unknown') \n",
    "# Droping 'price' missing values\n",
    "df.drop(df[df['price'] == 0].index, inplace = True)\n",
    "# Turning zeros in 'power' to mean value\n",
    "df.loc[df['power'] == 0, 'power'] = round(df.power.mean())\n",
    "# Droping missing values from 'model'\n",
    "df = df.dropna(subset = ['model'])"
   ]
  },
  {
   "cell_type": "code",
   "execution_count": 14,
   "metadata": {
    "scrolled": true
   },
   "outputs": [
    {
     "data": {
      "text/html": [
       "<div>\n",
       "<style scoped>\n",
       "    .dataframe tbody tr th:only-of-type {\n",
       "        vertical-align: middle;\n",
       "    }\n",
       "\n",
       "    .dataframe tbody tr th {\n",
       "        vertical-align: top;\n",
       "    }\n",
       "\n",
       "    .dataframe thead th {\n",
       "        text-align: right;\n",
       "    }\n",
       "</style>\n",
       "<table border=\"1\" class=\"dataframe\">\n",
       "  <thead>\n",
       "    <tr style=\"text-align: right;\">\n",
       "      <th></th>\n",
       "      <th>missing_values</th>\n",
       "      <th>%</th>\n",
       "    </tr>\n",
       "  </thead>\n",
       "  <tbody>\n",
       "    <tr>\n",
       "      <th>vehicle_type</th>\n",
       "      <td>28166</td>\n",
       "      <td>8.6</td>\n",
       "    </tr>\n",
       "    <tr>\n",
       "      <th>fuel_type</th>\n",
       "      <td>23551</td>\n",
       "      <td>7.2</td>\n",
       "    </tr>\n",
       "    <tr>\n",
       "      <th>gearbox</th>\n",
       "      <td>14270</td>\n",
       "      <td>4.4</td>\n",
       "    </tr>\n",
       "    <tr>\n",
       "      <th>brand</th>\n",
       "      <td>0</td>\n",
       "      <td>0.0</td>\n",
       "    </tr>\n",
       "    <tr>\n",
       "      <th>active_time(days)</th>\n",
       "      <td>0</td>\n",
       "      <td>0.0</td>\n",
       "    </tr>\n",
       "    <tr>\n",
       "      <th>last_seen</th>\n",
       "      <td>0</td>\n",
       "      <td>0.0</td>\n",
       "    </tr>\n",
       "    <tr>\n",
       "      <th>postal_code</th>\n",
       "      <td>0</td>\n",
       "      <td>0.0</td>\n",
       "    </tr>\n",
       "    <tr>\n",
       "      <th>n_pictures</th>\n",
       "      <td>0</td>\n",
       "      <td>0.0</td>\n",
       "    </tr>\n",
       "    <tr>\n",
       "      <th>date_created</th>\n",
       "      <td>0</td>\n",
       "      <td>0.0</td>\n",
       "    </tr>\n",
       "    <tr>\n",
       "      <th>repaired</th>\n",
       "      <td>0</td>\n",
       "      <td>0.0</td>\n",
       "    </tr>\n",
       "    <tr>\n",
       "      <th>date_crawled</th>\n",
       "      <td>0</td>\n",
       "      <td>0.0</td>\n",
       "    </tr>\n",
       "    <tr>\n",
       "      <th>price</th>\n",
       "      <td>0</td>\n",
       "      <td>0.0</td>\n",
       "    </tr>\n",
       "    <tr>\n",
       "      <th>registration_month</th>\n",
       "      <td>0</td>\n",
       "      <td>0.0</td>\n",
       "    </tr>\n",
       "    <tr>\n",
       "      <th>mileage</th>\n",
       "      <td>0</td>\n",
       "      <td>0.0</td>\n",
       "    </tr>\n",
       "    <tr>\n",
       "      <th>model</th>\n",
       "      <td>0</td>\n",
       "      <td>0.0</td>\n",
       "    </tr>\n",
       "    <tr>\n",
       "      <th>power</th>\n",
       "      <td>0</td>\n",
       "      <td>0.0</td>\n",
       "    </tr>\n",
       "    <tr>\n",
       "      <th>registration_year</th>\n",
       "      <td>0</td>\n",
       "      <td>0.0</td>\n",
       "    </tr>\n",
       "    <tr>\n",
       "      <th>car_age</th>\n",
       "      <td>0</td>\n",
       "      <td>0.0</td>\n",
       "    </tr>\n",
       "  </tbody>\n",
       "</table>\n",
       "</div>"
      ],
      "text/plain": [
       "                    missing_values    %\n",
       "vehicle_type                 28166  8.6\n",
       "fuel_type                    23551  7.2\n",
       "gearbox                      14270  4.4\n",
       "brand                            0  0.0\n",
       "active_time(days)                0  0.0\n",
       "last_seen                        0  0.0\n",
       "postal_code                      0  0.0\n",
       "n_pictures                       0  0.0\n",
       "date_created                     0  0.0\n",
       "repaired                         0  0.0\n",
       "date_crawled                     0  0.0\n",
       "price                            0  0.0\n",
       "registration_month               0  0.0\n",
       "mileage                          0  0.0\n",
       "model                            0  0.0\n",
       "power                            0  0.0\n",
       "registration_year                0  0.0\n",
       "car_age                          0  0.0"
      ]
     },
     "execution_count": 14,
     "metadata": {},
     "output_type": "execute_result"
    }
   ],
   "source": [
    "# Checking missing values\n",
    "data_mis = df.isnull().sum().to_frame('missing_values')\n",
    "data_mis['%'] = round(df.isnull().sum()/len(df),3)*100\n",
    "data_mis.sort_values(by='%', ascending=False)"
   ]
  },
  {
   "cell_type": "code",
   "execution_count": 15,
   "metadata": {},
   "outputs": [],
   "source": [
    "missing_cols = ['vehicle_type','fuel_type','gearbox']"
   ]
  },
  {
   "cell_type": "code",
   "execution_count": 16,
   "metadata": {},
   "outputs": [],
   "source": [
    "# Imputer to treat missing values\n",
    "imputer_cat = SimpleImputer(strategy='most_frequent')"
   ]
  },
  {
   "cell_type": "code",
   "execution_count": 17,
   "metadata": {},
   "outputs": [],
   "source": [
    "# a function to treat missing values with mode\n",
    "def impute(df, column, imputer):\n",
    "    df[column] = imputer.fit_transform(\n",
    "    df[column].values.reshape(-1,1))\n",
    "    return df"
   ]
  },
  {
   "cell_type": "code",
   "execution_count": 18,
   "metadata": {},
   "outputs": [],
   "source": [
    "# replacing missing values with the most common value\n",
    "for col in missing_cols:\n",
    "    df = impute(df,col,imputer_cat)"
   ]
  },
  {
   "cell_type": "code",
   "execution_count": 19,
   "metadata": {},
   "outputs": [],
   "source": [
    "# # changing cetain columns to category type to lower memory usage\n",
    "# df['gearbox'] = df['gearbox'].astype('category')\n",
    "# df['fuel_type'] = df['fuel_type'].astype('category')\n",
    "# df['repaired'] = df['repaired'].astype('category')"
   ]
  },
  {
   "cell_type": "code",
   "execution_count": 20,
   "metadata": {},
   "outputs": [],
   "source": [
    "# Turning object type into category\n",
    "for c in df.columns:\n",
    "    col_type = df[c].dtype\n",
    "    if col_type == 'object' or col_type.name == 'category':\n",
    "        df[c] = df[c].astype('category')"
   ]
  },
  {
   "cell_type": "code",
   "execution_count": 21,
   "metadata": {},
   "outputs": [
    {
     "data": {
      "text/html": [
       "<div>\n",
       "<style scoped>\n",
       "    .dataframe tbody tr th:only-of-type {\n",
       "        vertical-align: middle;\n",
       "    }\n",
       "\n",
       "    .dataframe tbody tr th {\n",
       "        vertical-align: top;\n",
       "    }\n",
       "\n",
       "    .dataframe thead th {\n",
       "        text-align: right;\n",
       "    }\n",
       "</style>\n",
       "<table border=\"1\" class=\"dataframe\">\n",
       "  <thead>\n",
       "    <tr style=\"text-align: right;\">\n",
       "      <th></th>\n",
       "      <th>missing_values</th>\n",
       "      <th>%</th>\n",
       "    </tr>\n",
       "  </thead>\n",
       "  <tbody>\n",
       "    <tr>\n",
       "      <th>date_crawled</th>\n",
       "      <td>0</td>\n",
       "      <td>0.0</td>\n",
       "    </tr>\n",
       "    <tr>\n",
       "      <th>price</th>\n",
       "      <td>0</td>\n",
       "      <td>0.0</td>\n",
       "    </tr>\n",
       "    <tr>\n",
       "      <th>active_time(days)</th>\n",
       "      <td>0</td>\n",
       "      <td>0.0</td>\n",
       "    </tr>\n",
       "    <tr>\n",
       "      <th>last_seen</th>\n",
       "      <td>0</td>\n",
       "      <td>0.0</td>\n",
       "    </tr>\n",
       "    <tr>\n",
       "      <th>postal_code</th>\n",
       "      <td>0</td>\n",
       "      <td>0.0</td>\n",
       "    </tr>\n",
       "    <tr>\n",
       "      <th>n_pictures</th>\n",
       "      <td>0</td>\n",
       "      <td>0.0</td>\n",
       "    </tr>\n",
       "    <tr>\n",
       "      <th>date_created</th>\n",
       "      <td>0</td>\n",
       "      <td>0.0</td>\n",
       "    </tr>\n",
       "    <tr>\n",
       "      <th>repaired</th>\n",
       "      <td>0</td>\n",
       "      <td>0.0</td>\n",
       "    </tr>\n",
       "    <tr>\n",
       "      <th>brand</th>\n",
       "      <td>0</td>\n",
       "      <td>0.0</td>\n",
       "    </tr>\n",
       "    <tr>\n",
       "      <th>fuel_type</th>\n",
       "      <td>0</td>\n",
       "      <td>0.0</td>\n",
       "    </tr>\n",
       "    <tr>\n",
       "      <th>registration_month</th>\n",
       "      <td>0</td>\n",
       "      <td>0.0</td>\n",
       "    </tr>\n",
       "    <tr>\n",
       "      <th>mileage</th>\n",
       "      <td>0</td>\n",
       "      <td>0.0</td>\n",
       "    </tr>\n",
       "    <tr>\n",
       "      <th>model</th>\n",
       "      <td>0</td>\n",
       "      <td>0.0</td>\n",
       "    </tr>\n",
       "    <tr>\n",
       "      <th>power</th>\n",
       "      <td>0</td>\n",
       "      <td>0.0</td>\n",
       "    </tr>\n",
       "    <tr>\n",
       "      <th>gearbox</th>\n",
       "      <td>0</td>\n",
       "      <td>0.0</td>\n",
       "    </tr>\n",
       "    <tr>\n",
       "      <th>registration_year</th>\n",
       "      <td>0</td>\n",
       "      <td>0.0</td>\n",
       "    </tr>\n",
       "    <tr>\n",
       "      <th>vehicle_type</th>\n",
       "      <td>0</td>\n",
       "      <td>0.0</td>\n",
       "    </tr>\n",
       "    <tr>\n",
       "      <th>car_age</th>\n",
       "      <td>0</td>\n",
       "      <td>0.0</td>\n",
       "    </tr>\n",
       "  </tbody>\n",
       "</table>\n",
       "</div>"
      ],
      "text/plain": [
       "                    missing_values    %\n",
       "date_crawled                     0  0.0\n",
       "price                            0  0.0\n",
       "active_time(days)                0  0.0\n",
       "last_seen                        0  0.0\n",
       "postal_code                      0  0.0\n",
       "n_pictures                       0  0.0\n",
       "date_created                     0  0.0\n",
       "repaired                         0  0.0\n",
       "brand                            0  0.0\n",
       "fuel_type                        0  0.0\n",
       "registration_month               0  0.0\n",
       "mileage                          0  0.0\n",
       "model                            0  0.0\n",
       "power                            0  0.0\n",
       "gearbox                          0  0.0\n",
       "registration_year                0  0.0\n",
       "vehicle_type                     0  0.0\n",
       "car_age                          0  0.0"
      ]
     },
     "execution_count": 21,
     "metadata": {},
     "output_type": "execute_result"
    }
   ],
   "source": [
    "# Checking missing values\n",
    "data_mis = df.isnull().sum().to_frame('missing_values')\n",
    "data_mis['%'] = round(df.isnull().sum()/len(df),3)*100\n",
    "data_mis.sort_values(by='%', ascending=False)"
   ]
  },
  {
   "cell_type": "code",
   "execution_count": 22,
   "metadata": {},
   "outputs": [
    {
     "name": "stdout",
     "output_type": "stream",
     "text": [
      "Portion of data removed in cleaning: 8%\n"
     ]
    }
   ],
   "source": [
    "print(f\"Portion of data removed in cleaning: {(raw_df.shape[0]-df.shape[0])/raw_df.shape[0]:.0%}\")"
   ]
  },
  {
   "cell_type": "code",
   "execution_count": 23,
   "metadata": {},
   "outputs": [
    {
     "data": {
      "text/html": [
       "<div>\n",
       "<style scoped>\n",
       "    .dataframe tbody tr th:only-of-type {\n",
       "        vertical-align: middle;\n",
       "    }\n",
       "\n",
       "    .dataframe tbody tr th {\n",
       "        vertical-align: top;\n",
       "    }\n",
       "\n",
       "    .dataframe thead th {\n",
       "        text-align: right;\n",
       "    }\n",
       "</style>\n",
       "<table border=\"1\" class=\"dataframe\">\n",
       "  <thead>\n",
       "    <tr style=\"text-align: right;\">\n",
       "      <th></th>\n",
       "      <th>date_crawled</th>\n",
       "      <th>price</th>\n",
       "      <th>vehicle_type</th>\n",
       "      <th>registration_year</th>\n",
       "      <th>gearbox</th>\n",
       "      <th>power</th>\n",
       "      <th>model</th>\n",
       "      <th>mileage</th>\n",
       "      <th>registration_month</th>\n",
       "      <th>fuel_type</th>\n",
       "      <th>brand</th>\n",
       "      <th>repaired</th>\n",
       "      <th>date_created</th>\n",
       "      <th>n_pictures</th>\n",
       "      <th>postal_code</th>\n",
       "      <th>last_seen</th>\n",
       "      <th>active_time(days)</th>\n",
       "      <th>car_age</th>\n",
       "    </tr>\n",
       "  </thead>\n",
       "  <tbody>\n",
       "    <tr>\n",
       "      <th>0</th>\n",
       "      <td>2016-03-24 11:52:00</td>\n",
       "      <td>480</td>\n",
       "      <td>sedan</td>\n",
       "      <td>1993</td>\n",
       "      <td>manual</td>\n",
       "      <td>111</td>\n",
       "      <td>golf</td>\n",
       "      <td>150000</td>\n",
       "      <td>0</td>\n",
       "      <td>petrol</td>\n",
       "      <td>volkswagen</td>\n",
       "      <td>unknown</td>\n",
       "      <td>2016-03-24</td>\n",
       "      <td>0</td>\n",
       "      <td>70435</td>\n",
       "      <td>2016-07-04 03:16:00</td>\n",
       "      <td>102</td>\n",
       "      <td>23</td>\n",
       "    </tr>\n",
       "    <tr>\n",
       "      <th>2</th>\n",
       "      <td>2016-03-14 12:52:00</td>\n",
       "      <td>9800</td>\n",
       "      <td>suv</td>\n",
       "      <td>2004</td>\n",
       "      <td>auto</td>\n",
       "      <td>163</td>\n",
       "      <td>grand</td>\n",
       "      <td>125000</td>\n",
       "      <td>8</td>\n",
       "      <td>gasoline</td>\n",
       "      <td>jeep</td>\n",
       "      <td>unknown</td>\n",
       "      <td>2016-03-14</td>\n",
       "      <td>0</td>\n",
       "      <td>90480</td>\n",
       "      <td>2016-05-04 12:47:00</td>\n",
       "      <td>51</td>\n",
       "      <td>12</td>\n",
       "    </tr>\n",
       "  </tbody>\n",
       "</table>\n",
       "</div>"
      ],
      "text/plain": [
       "         date_crawled  price vehicle_type  registration_year gearbox  power  \\\n",
       "0 2016-03-24 11:52:00    480        sedan               1993  manual    111   \n",
       "2 2016-03-14 12:52:00   9800          suv               2004    auto    163   \n",
       "\n",
       "   model  mileage  registration_month fuel_type       brand repaired  \\\n",
       "0   golf   150000                   0    petrol  volkswagen  unknown   \n",
       "2  grand   125000                   8  gasoline        jeep  unknown   \n",
       "\n",
       "  date_created  n_pictures  postal_code           last_seen  \\\n",
       "0   2016-03-24           0        70435 2016-07-04 03:16:00   \n",
       "2   2016-03-14           0        90480 2016-05-04 12:47:00   \n",
       "\n",
       "   active_time(days)  car_age  \n",
       "0                102       23  \n",
       "2                 51       12  "
      ]
     },
     "execution_count": 23,
     "metadata": {},
     "output_type": "execute_result"
    }
   ],
   "source": [
    "df.head(2)"
   ]
  },
  {
   "cell_type": "code",
   "execution_count": 24,
   "metadata": {},
   "outputs": [
    {
     "name": "stdout",
     "output_type": "stream",
     "text": [
      "Number of duplicated rows: 264 which is 0.1% of the data\n"
     ]
    }
   ],
   "source": [
    "# Checking for duplicates\n",
    "dup_number = df.duplicated().sum()\n",
    "print(f\"Number of duplicated rows: {dup_number} which is \\\n",
    "{round(dup_number/df.shape[0], 3):.1%} of the data\")"
   ]
  },
  {
   "cell_type": "code",
   "execution_count": 25,
   "metadata": {},
   "outputs": [],
   "source": [
    "# Getting rid of duplicates\n",
    "df = df.drop_duplicates()"
   ]
  },
  {
   "cell_type": "code",
   "execution_count": 26,
   "metadata": {},
   "outputs": [
    {
     "name": "stdout",
     "output_type": "stream",
     "text": [
      "<class 'pandas.core.frame.DataFrame'>\n",
      "Int64Index: 325812 entries, 0 to 354368\n",
      "Data columns (total 18 columns):\n",
      " #   Column              Non-Null Count   Dtype         \n",
      "---  ------              --------------   -----         \n",
      " 0   date_crawled        325812 non-null  datetime64[ns]\n",
      " 1   price               325812 non-null  int64         \n",
      " 2   vehicle_type        325812 non-null  category      \n",
      " 3   registration_year   325812 non-null  int64         \n",
      " 4   gearbox             325812 non-null  category      \n",
      " 5   power               325812 non-null  int64         \n",
      " 6   model               325812 non-null  category      \n",
      " 7   mileage             325812 non-null  int64         \n",
      " 8   registration_month  325812 non-null  int64         \n",
      " 9   fuel_type           325812 non-null  category      \n",
      " 10  brand               325812 non-null  category      \n",
      " 11  repaired            325812 non-null  category      \n",
      " 12  date_created        325812 non-null  datetime64[ns]\n",
      " 13  n_pictures          325812 non-null  int64         \n",
      " 14  postal_code         325812 non-null  int64         \n",
      " 15  last_seen           325812 non-null  datetime64[ns]\n",
      " 16  active_time(days)   325812 non-null  int64         \n",
      " 17  car_age             325812 non-null  int64         \n",
      "dtypes: category(6), datetime64[ns](3), int64(9)\n",
      "memory usage: 34.5 MB\n"
     ]
    }
   ],
   "source": [
    "df.info(memory_usage='deep')"
   ]
  },
  {
   "cell_type": "markdown",
   "metadata": {},
   "source": [
    "**Memory usage dropped significantly!**"
   ]
  },
  {
   "cell_type": "markdown",
   "metadata": {
    "scrolled": true
   },
   "source": [
    "### Outliers"
   ]
  },
  {
   "cell_type": "code",
   "execution_count": 27,
   "metadata": {},
   "outputs": [],
   "source": [
    "# Ploting histograms\n",
    "def histo(data,col):    \n",
    "    ax = plt.subplots()\n",
    "    sns.set(rc={\"figure.figsize\":(7, 5)})\n",
    "    sns.histplot(x=col, data=data)\n",
    "    plt.title(f'{col} histogram', fontsize=14)"
   ]
  },
  {
   "cell_type": "code",
   "execution_count": 28,
   "metadata": {
    "scrolled": false
   },
   "outputs": [
    {
     "data": {
      "image/png": "[encoded data removed]",
      "text/plain": [
       "<Figure size 432x288 with 1 Axes>"
      ]
     },
     "metadata": {
      "needs_background": "light"
     },
     "output_type": "display_data"
    },
    {
     "data": {
      "image/png": "[encoded data removed]",
      "text/plain": [
       "<Figure size 504x360 with 1 Axes>"
      ]
     },
     "metadata": {},
     "output_type": "display_data"
    },
    {
     "data": {
      "image/png": "[encoded data removed]",
      "text/plain": [
       "<Figure size 504x360 with 1 Axes>"
      ]
     },
     "metadata": {},
     "output_type": "display_data"
    },
    {
     "data": {
      "image/png": "[encoded data removed]",
      "text/plain": [
       "<Figure size 504x360 with 1 Axes>"
      ]
     },
     "metadata": {},
     "output_type": "display_data"
    },
    {
     "data": {
      "image/png": "[encoded data removed]",
      "text/plain": [
       "<Figure size 504x360 with 1 Axes>"
      ]
     },
     "metadata": {},
     "output_type": "display_data"
    }
   ],
   "source": [
    "columns = ['price', 'vehicle_type', 'registration_year', 'power', 'active_time(days)']\n",
    "for c in columns:\n",
    "    histo(df,c)"
   ]
  },
  {
   "cell_type": "code",
   "execution_count": 29,
   "metadata": {
    "scrolled": true
   },
   "outputs": [],
   "source": [
    "# Getting rid of outliers in 'registration_year' and 'power' and 'active time' columns\n",
    "df = df[(df['registration_year']>=1975) & (df['registration_year']<=2018) ]\n",
    "df = df[(df['power'] > 0) & (df['power'] < 400)]\n",
    "df = df[(df['active_time(days)'] > 0)]"
   ]
  },
  {
   "cell_type": "code",
   "execution_count": 30,
   "metadata": {},
   "outputs": [
    {
     "data": {
      "text/html": [
       "<div>\n",
       "<style scoped>\n",
       "    .dataframe tbody tr th:only-of-type {\n",
       "        vertical-align: middle;\n",
       "    }\n",
       "\n",
       "    .dataframe tbody tr th {\n",
       "        vertical-align: top;\n",
       "    }\n",
       "\n",
       "    .dataframe thead th {\n",
       "        text-align: right;\n",
       "    }\n",
       "</style>\n",
       "<table border=\"1\" class=\"dataframe\">\n",
       "  <thead>\n",
       "    <tr style=\"text-align: right;\">\n",
       "      <th></th>\n",
       "      <th>date_crawled</th>\n",
       "      <th>price</th>\n",
       "      <th>vehicle_type</th>\n",
       "      <th>registration_year</th>\n",
       "      <th>gearbox</th>\n",
       "      <th>power</th>\n",
       "      <th>model</th>\n",
       "      <th>mileage</th>\n",
       "      <th>registration_month</th>\n",
       "      <th>fuel_type</th>\n",
       "      <th>brand</th>\n",
       "      <th>repaired</th>\n",
       "      <th>date_created</th>\n",
       "      <th>n_pictures</th>\n",
       "      <th>postal_code</th>\n",
       "      <th>last_seen</th>\n",
       "      <th>active_time(days)</th>\n",
       "      <th>car_age</th>\n",
       "    </tr>\n",
       "  </thead>\n",
       "  <tbody>\n",
       "    <tr>\n",
       "      <th>0</th>\n",
       "      <td>2016-03-24 11:52:00</td>\n",
       "      <td>480</td>\n",
       "      <td>sedan</td>\n",
       "      <td>1993</td>\n",
       "      <td>manual</td>\n",
       "      <td>111</td>\n",
       "      <td>golf</td>\n",
       "      <td>150000</td>\n",
       "      <td>0</td>\n",
       "      <td>petrol</td>\n",
       "      <td>volkswagen</td>\n",
       "      <td>unknown</td>\n",
       "      <td>2016-03-24</td>\n",
       "      <td>0</td>\n",
       "      <td>70435</td>\n",
       "      <td>2016-07-04 03:16:00</td>\n",
       "      <td>102</td>\n",
       "      <td>23</td>\n",
       "    </tr>\n",
       "  </tbody>\n",
       "</table>\n",
       "</div>"
      ],
      "text/plain": [
       "         date_crawled  price vehicle_type  registration_year gearbox  power  \\\n",
       "0 2016-03-24 11:52:00    480        sedan               1993  manual    111   \n",
       "\n",
       "  model  mileage  registration_month fuel_type       brand repaired  \\\n",
       "0  golf   150000                   0    petrol  volkswagen  unknown   \n",
       "\n",
       "  date_created  n_pictures  postal_code           last_seen  \\\n",
       "0   2016-03-24           0        70435 2016-07-04 03:16:00   \n",
       "\n",
       "   active_time(days)  car_age  \n",
       "0                102       23  "
      ]
     },
     "execution_count": 30,
     "metadata": {},
     "output_type": "execute_result"
    }
   ],
   "source": [
    "df.head(1)"
   ]
  },
  {
   "cell_type": "code",
   "execution_count": 31,
   "metadata": {},
   "outputs": [],
   "source": [
    "# Creating target and features\n",
    "X = df.drop(['price','registration_year','registration_month','date_crawled','date_created','n_pictures','postal_code','last_seen'], axis=1)\n",
    "y = df['price']"
   ]
  },
  {
   "cell_type": "code",
   "execution_count": 32,
   "metadata": {
    "scrolled": false
   },
   "outputs": [
    {
     "data": {
      "text/html": [
       "<div>\n",
       "<style scoped>\n",
       "    .dataframe tbody tr th:only-of-type {\n",
       "        vertical-align: middle;\n",
       "    }\n",
       "\n",
       "    .dataframe tbody tr th {\n",
       "        vertical-align: top;\n",
       "    }\n",
       "\n",
       "    .dataframe thead th {\n",
       "        text-align: right;\n",
       "    }\n",
       "</style>\n",
       "<table border=\"1\" class=\"dataframe\">\n",
       "  <thead>\n",
       "    <tr style=\"text-align: right;\">\n",
       "      <th></th>\n",
       "      <th>power</th>\n",
       "      <th>mileage</th>\n",
       "      <th>active_time(days)</th>\n",
       "      <th>car_age</th>\n",
       "      <th>vehicle_type_convertible</th>\n",
       "      <th>vehicle_type_coupe</th>\n",
       "      <th>vehicle_type_other</th>\n",
       "      <th>vehicle_type_sedan</th>\n",
       "      <th>vehicle_type_small</th>\n",
       "      <th>vehicle_type_suv</th>\n",
       "      <th>...</th>\n",
       "      <th>brand_skoda</th>\n",
       "      <th>brand_smart</th>\n",
       "      <th>brand_subaru</th>\n",
       "      <th>brand_suzuki</th>\n",
       "      <th>brand_toyota</th>\n",
       "      <th>brand_trabant</th>\n",
       "      <th>brand_volkswagen</th>\n",
       "      <th>brand_volvo</th>\n",
       "      <th>repaired_unknown</th>\n",
       "      <th>repaired_yes</th>\n",
       "    </tr>\n",
       "  </thead>\n",
       "  <tbody>\n",
       "    <tr>\n",
       "      <th>0</th>\n",
       "      <td>111</td>\n",
       "      <td>150000</td>\n",
       "      <td>102</td>\n",
       "      <td>23</td>\n",
       "      <td>0</td>\n",
       "      <td>0</td>\n",
       "      <td>0</td>\n",
       "      <td>1</td>\n",
       "      <td>0</td>\n",
       "      <td>0</td>\n",
       "      <td>...</td>\n",
       "      <td>0</td>\n",
       "      <td>0</td>\n",
       "      <td>0</td>\n",
       "      <td>0</td>\n",
       "      <td>0</td>\n",
       "      <td>0</td>\n",
       "      <td>1</td>\n",
       "      <td>0</td>\n",
       "      <td>1</td>\n",
       "      <td>0</td>\n",
       "    </tr>\n",
       "    <tr>\n",
       "      <th>2</th>\n",
       "      <td>163</td>\n",
       "      <td>125000</td>\n",
       "      <td>51</td>\n",
       "      <td>12</td>\n",
       "      <td>0</td>\n",
       "      <td>0</td>\n",
       "      <td>0</td>\n",
       "      <td>0</td>\n",
       "      <td>0</td>\n",
       "      <td>1</td>\n",
       "      <td>...</td>\n",
       "      <td>0</td>\n",
       "      <td>0</td>\n",
       "      <td>0</td>\n",
       "      <td>0</td>\n",
       "      <td>0</td>\n",
       "      <td>0</td>\n",
       "      <td>0</td>\n",
       "      <td>0</td>\n",
       "      <td>1</td>\n",
       "      <td>0</td>\n",
       "    </tr>\n",
       "    <tr>\n",
       "      <th>4</th>\n",
       "      <td>69</td>\n",
       "      <td>90000</td>\n",
       "      <td>65</td>\n",
       "      <td>8</td>\n",
       "      <td>0</td>\n",
       "      <td>0</td>\n",
       "      <td>0</td>\n",
       "      <td>0</td>\n",
       "      <td>1</td>\n",
       "      <td>0</td>\n",
       "      <td>...</td>\n",
       "      <td>1</td>\n",
       "      <td>0</td>\n",
       "      <td>0</td>\n",
       "      <td>0</td>\n",
       "      <td>0</td>\n",
       "      <td>0</td>\n",
       "      <td>0</td>\n",
       "      <td>0</td>\n",
       "      <td>0</td>\n",
       "      <td>0</td>\n",
       "    </tr>\n",
       "    <tr>\n",
       "      <th>5</th>\n",
       "      <td>102</td>\n",
       "      <td>150000</td>\n",
       "      <td>61</td>\n",
       "      <td>21</td>\n",
       "      <td>0</td>\n",
       "      <td>0</td>\n",
       "      <td>0</td>\n",
       "      <td>1</td>\n",
       "      <td>0</td>\n",
       "      <td>0</td>\n",
       "      <td>...</td>\n",
       "      <td>0</td>\n",
       "      <td>0</td>\n",
       "      <td>0</td>\n",
       "      <td>0</td>\n",
       "      <td>0</td>\n",
       "      <td>0</td>\n",
       "      <td>0</td>\n",
       "      <td>0</td>\n",
       "      <td>0</td>\n",
       "      <td>1</td>\n",
       "    </tr>\n",
       "    <tr>\n",
       "      <th>6</th>\n",
       "      <td>109</td>\n",
       "      <td>150000</td>\n",
       "      <td>121</td>\n",
       "      <td>12</td>\n",
       "      <td>1</td>\n",
       "      <td>0</td>\n",
       "      <td>0</td>\n",
       "      <td>0</td>\n",
       "      <td>0</td>\n",
       "      <td>0</td>\n",
       "      <td>...</td>\n",
       "      <td>0</td>\n",
       "      <td>0</td>\n",
       "      <td>0</td>\n",
       "      <td>0</td>\n",
       "      <td>0</td>\n",
       "      <td>0</td>\n",
       "      <td>0</td>\n",
       "      <td>0</td>\n",
       "      <td>0</td>\n",
       "      <td>0</td>\n",
       "    </tr>\n",
       "  </tbody>\n",
       "</table>\n",
       "<p>5 rows × 307 columns</p>\n",
       "</div>"
      ],
      "text/plain": [
       "   power  mileage  active_time(days)  car_age  vehicle_type_convertible  \\\n",
       "0    111   150000                102       23                         0   \n",
       "2    163   125000                 51       12                         0   \n",
       "4     69    90000                 65        8                         0   \n",
       "5    102   150000                 61       21                         0   \n",
       "6    109   150000                121       12                         1   \n",
       "\n",
       "   vehicle_type_coupe  vehicle_type_other  vehicle_type_sedan  \\\n",
       "0                   0                   0                   1   \n",
       "2                   0                   0                   0   \n",
       "4                   0                   0                   0   \n",
       "5                   0                   0                   1   \n",
       "6                   0                   0                   0   \n",
       "\n",
       "   vehicle_type_small  vehicle_type_suv  ...  brand_skoda  brand_smart  \\\n",
       "0                   0                 0  ...            0            0   \n",
       "2                   0                 1  ...            0            0   \n",
       "4                   1                 0  ...            1            0   \n",
       "5                   0                 0  ...            0            0   \n",
       "6                   0                 0  ...            0            0   \n",
       "\n",
       "   brand_subaru  brand_suzuki  brand_toyota  brand_trabant  brand_volkswagen  \\\n",
       "0             0             0             0              0                 1   \n",
       "2             0             0             0              0                 0   \n",
       "4             0             0             0              0                 0   \n",
       "5             0             0             0              0                 0   \n",
       "6             0             0             0              0                 0   \n",
       "\n",
       "   brand_volvo  repaired_unknown  repaired_yes  \n",
       "0            0                 1             0  \n",
       "2            0                 1             0  \n",
       "4            0                 0             0  \n",
       "5            0                 0             1  \n",
       "6            0                 0             0  \n",
       "\n",
       "[5 rows x 307 columns]"
      ]
     },
     "execution_count": 32,
     "metadata": {},
     "output_type": "execute_result"
    }
   ],
   "source": [
    "# OHE for categorical columns\n",
    "X_ohe = pd.get_dummies(X, drop_first=True)\n",
    "X_ohe.head()"
   ]
  },
  {
   "cell_type": "code",
   "execution_count": 33,
   "metadata": {},
   "outputs": [],
   "source": [
    "# Transforming features into integers\n",
    "enc = OrdinalEncoder()\n",
    "enc.fit(X)\n",
    "X_ordinal = enc.transform(X)"
   ]
  },
  {
   "cell_type": "markdown",
   "metadata": {},
   "source": [
    "### summary\n",
    "* Changed column names for convenience\n",
    "* Added `active_time` and `car age` columns.\n",
    "* Got rid of missing values.\n",
    "* Got rid of duplicated rows.\n",
    "* Got rid of outliers.\n",
    "* Didn`t use unnecessary columns as features.\n",
    "* One hot encoding for categorical columns."
   ]
  },
  {
   "cell_type": "markdown",
   "metadata": {},
   "source": [
    "## Model training"
   ]
  },
  {
   "cell_type": "code",
   "execution_count": 34,
   "metadata": {},
   "outputs": [],
   "source": [
    "# Spliting the data into training set and test set: (with OTH)\n",
    "features_train, features_test, target_train, target_test = train_test_split(\n",
    "    X_ohe, y, test_size=0.2, random_state=12345)"
   ]
  },
  {
   "cell_type": "code",
   "execution_count": 35,
   "metadata": {},
   "outputs": [
    {
     "name": "stdout",
     "output_type": "stream",
     "text": [
      "Proportions out of original data\n",
      "---------------------------------\n",
      "TRAINING set:     80%\n",
      "TEST set:         20%\n"
     ]
    }
   ],
   "source": [
    "print('Proportions out of original data')\n",
    "print('---------------------------------')\n",
    "print(f\"TRAINING set:     {features_train.shape[0]/X.shape[0]:.0%}\")\n",
    "print(f\"TEST set:         {features_test.shape[0]/X.shape[0]:.0%}\")"
   ]
  },
  {
   "cell_type": "code",
   "execution_count": 36,
   "metadata": {},
   "outputs": [],
   "source": [
    "# Spliting the data into training set and test set: (without OTH)\n",
    "X_train, X_test, y_train, y_test = train_test_split(\n",
    "    X, y, test_size=0.2, random_state=12345)"
   ]
  },
  {
   "cell_type": "code",
   "execution_count": 37,
   "metadata": {},
   "outputs": [
    {
     "name": "stdout",
     "output_type": "stream",
     "text": [
      "Proportions out of original data\n",
      "---------------------------------\n",
      "TRAINING set:     80%\n",
      "TEST set:         20%\n"
     ]
    }
   ],
   "source": [
    "print('Proportions out of original data')\n",
    "print('---------------------------------')\n",
    "print(f\"TRAINING set:     {X_train.shape[0]/X.shape[0]:.0%}\")\n",
    "print(f\"TEST set:         {X_test.shape[0]/X.shape[0]:.0%}\")"
   ]
  },
  {
   "cell_type": "code",
   "execution_count": 38,
   "metadata": {},
   "outputs": [],
   "source": [
    "# Spliting the data into training set and test set: (Ordinal)\n",
    "X_train_ord, X_test_ord, y_train_ord, y_test_ord = train_test_split(\n",
    "    X_ordinal, y, test_size=0.2, random_state=12345)"
   ]
  },
  {
   "cell_type": "code",
   "execution_count": 39,
   "metadata": {},
   "outputs": [
    {
     "name": "stdout",
     "output_type": "stream",
     "text": [
      "Proportions out of original data\n",
      "---------------------------------\n",
      "TRAINING set:     80%\n",
      "TEST set:         20%\n"
     ]
    }
   ],
   "source": [
    "print('Proportions out of original data')\n",
    "print('---------------------------------')\n",
    "print(f\"TRAINING set:     {X_train_ord.shape[0]/X.shape[0]:.0%}\")\n",
    "print(f\"TEST set:         {X_test_ord.shape[0]/X.shape[0]:.0%}\")"
   ]
  },
  {
   "cell_type": "markdown",
   "metadata": {},
   "source": [
    "### Random forest training"
   ]
  },
  {
   "cell_type": "code",
   "execution_count": 40,
   "metadata": {},
   "outputs": [
    {
     "name": "stdout",
     "output_type": "stream",
     "text": [
      "best parameters: {'max_depth': 9, 'n_estimators': 9}\n",
      "RMSE score: 1983.498\n",
      "Wall time: 1min 59s\n"
     ]
    }
   ],
   "source": [
    "%%time\n",
    "\n",
    "rfr = RandomForestRegressor(random_state=12345)\n",
    "params_grid = {\"max_depth\": [1, 3, 9],\n",
    "              \"n_estimators\": [1, 3, 9]}\n",
    "\n",
    "gs_rf = GridSearchCV(rfr, param_grid=params_grid, scoring='neg_root_mean_squared_error', cv=3)\n",
    "\n",
    "gs_rf.fit(features_train, target_train)\n",
    "print(f\"best parameters: {gs_rf.best_params_}\")\n",
    "print(f\"RMSE score: {-(gs_rf.best_score_):.3f}\")"
   ]
  },
  {
   "cell_type": "markdown",
   "metadata": {},
   "source": [
    "### Decision tree training"
   ]
  },
  {
   "cell_type": "code",
   "execution_count": 41,
   "metadata": {},
   "outputs": [
    {
     "name": "stdout",
     "output_type": "stream",
     "text": [
      "best parameters: {'max_depth': 9}\n",
      "RMSE score: 2076.603\n",
      "Wall time: 17 s\n"
     ]
    }
   ],
   "source": [
    "%%time\n",
    "\n",
    "dcr = DecisionTreeRegressor(random_state=12345)\n",
    "params_grid = {\"max_depth\": [1, 3, 9]}\n",
    "\n",
    "gs_dcr = GridSearchCV(dcr, param_grid=params_grid, scoring='neg_root_mean_squared_error', cv=3)\n",
    "\n",
    "gs_dcr.fit(features_train, target_train)\n",
    "print(f\"best parameters: {gs_dcr.best_params_}\")\n",
    "print(f\"RMSE score: {-(gs_dcr.best_score_):.3f}\")"
   ]
  },
  {
   "cell_type": "markdown",
   "metadata": {},
   "source": [
    "### LightGBM training"
   ]
  },
  {
   "cell_type": "code",
   "execution_count": 42,
   "metadata": {},
   "outputs": [
    {
     "data": {
      "text/plain": [
       "['vehicle_type', 'gearbox', 'model', 'fuel_type', 'brand', 'repaired']"
      ]
     },
     "execution_count": 42,
     "metadata": {},
     "output_type": "execute_result"
    }
   ],
   "source": [
    "cat_cols = list(X.loc[:, X.dtypes == 'category'])\n",
    "cat_cols"
   ]
  },
  {
   "cell_type": "code",
   "execution_count": 43,
   "metadata": {},
   "outputs": [
    {
     "data": {
      "text/plain": [
       "array([0, 1, 3, 5, 6, 7], dtype=int64)"
      ]
     },
     "execution_count": 43,
     "metadata": {},
     "output_type": "execute_result"
    }
   ],
   "source": [
    "cat_feature_list = np.where(X.dtypes != 'int64')[0]\n",
    "cat_feature_list"
   ]
  },
  {
   "cell_type": "code",
   "execution_count": 48,
   "metadata": {},
   "outputs": [
    {
     "name": "stdout",
     "output_type": "stream",
     "text": [
      "Wall time: 1min\n"
     ]
    }
   ],
   "source": [
    "%%time\n",
    "\n",
    "model = lgb.LGBMRegressor(random_state=12345)\n",
    "params_grid = {'num_leaves': [7, 21, 50, 120],\n",
    "              'max_depth': [-1, 3, 5]}\n",
    "\n",
    "grid = GridSearchCV(model, param_grid=params_grid, scoring='neg_root_mean_squared_error', cv=3)\n",
    "grid.fit(features_train, target_train)\n",
    "lgbm_tuned = grid.best_estimator_"
   ]
  },
  {
   "cell_type": "code",
   "execution_count": 49,
   "metadata": {},
   "outputs": [
    {
     "name": "stdout",
     "output_type": "stream",
     "text": [
      "Best parameters: {'max_depth': -1, 'num_leaves': 120}\n",
      "RMSE score: 1576.772\n"
     ]
    }
   ],
   "source": [
    "print(f\"Best parameters: {grid.best_params_}\")\n",
    "print(f\"RMSE score: {-grid.best_score_:.3f}\")"
   ]
  },
  {
   "cell_type": "markdown",
   "metadata": {},
   "source": [
    "### CatBoostRegressor training"
   ]
  },
  {
   "cell_type": "code",
   "execution_count": 52,
   "metadata": {
    "scrolled": true
   },
   "outputs": [
    {
     "name": "stdout",
     "output_type": "stream",
     "text": [
      "Best RMSE:1421.022\n",
      "Best parameters:{'depth': 8, 'iterations': 300, 'learning_rate': 0.3}\n",
      "Wall time: 1min 5s\n"
     ]
    }
   ],
   "source": [
    "%%time\n",
    "model = CatBoostRegressor(loss_function='RMSE', logging_level='Silent',random_seed=12345)\n",
    "params_grid = {'iterations': [100, 200,300],\n",
    "        'learning_rate': [0.1,0.3,0.7],\n",
    "        'depth': [3,8,20]}\n",
    "\n",
    "search_results=model.grid_search(params_grid,features_train, y=target_train\n",
    "                                      ,cv=3, verbose=False)\n",
    "\n",
    "print(f\"Best RMSE:{model.get_best_score()['learn']['RMSE']:.3f}\")\n",
    "print(f\"Best parameters:{search_results['params']}\")"
   ]
  },
  {
   "cell_type": "code",
   "execution_count": 53,
   "metadata": {
    "scrolled": true
   },
   "outputs": [
    {
     "data": {
      "text/html": [
       "<div>\n",
       "<style scoped>\n",
       "    .dataframe tbody tr th:only-of-type {\n",
       "        vertical-align: middle;\n",
       "    }\n",
       "\n",
       "    .dataframe tbody tr th {\n",
       "        vertical-align: top;\n",
       "    }\n",
       "\n",
       "    .dataframe thead th {\n",
       "        text-align: right;\n",
       "    }\n",
       "</style>\n",
       "<table border=\"1\" class=\"dataframe\">\n",
       "  <thead>\n",
       "    <tr style=\"text-align: right;\">\n",
       "      <th></th>\n",
       "      <th>iterations</th>\n",
       "      <th>test-RMSE-mean</th>\n",
       "      <th>test-RMSE-std</th>\n",
       "      <th>train-RMSE-mean</th>\n",
       "      <th>train-RMSE-std</th>\n",
       "    </tr>\n",
       "  </thead>\n",
       "  <tbody>\n",
       "    <tr>\n",
       "      <th>0</th>\n",
       "      <td>0</td>\n",
       "      <td>5022.272952</td>\n",
       "      <td>14.952590</td>\n",
       "      <td>5020.782255</td>\n",
       "      <td>6.747767</td>\n",
       "    </tr>\n",
       "    <tr>\n",
       "      <th>1</th>\n",
       "      <td>1</td>\n",
       "      <td>3934.938291</td>\n",
       "      <td>6.777927</td>\n",
       "      <td>3933.144790</td>\n",
       "      <td>18.923088</td>\n",
       "    </tr>\n",
       "    <tr>\n",
       "      <th>2</th>\n",
       "      <td>2</td>\n",
       "      <td>3209.631136</td>\n",
       "      <td>3.003971</td>\n",
       "      <td>3207.557249</td>\n",
       "      <td>22.644528</td>\n",
       "    </tr>\n",
       "    <tr>\n",
       "      <th>3</th>\n",
       "      <td>3</td>\n",
       "      <td>2755.211084</td>\n",
       "      <td>4.255837</td>\n",
       "      <td>2751.847674</td>\n",
       "      <td>24.285607</td>\n",
       "    </tr>\n",
       "    <tr>\n",
       "      <th>4</th>\n",
       "      <td>4</td>\n",
       "      <td>2469.008491</td>\n",
       "      <td>14.705122</td>\n",
       "      <td>2465.206107</td>\n",
       "      <td>7.476492</td>\n",
       "    </tr>\n",
       "  </tbody>\n",
       "</table>\n",
       "</div>"
      ],
      "text/plain": [
       "   iterations  test-RMSE-mean  test-RMSE-std  train-RMSE-mean  train-RMSE-std\n",
       "0           0     5022.272952      14.952590      5020.782255        6.747767\n",
       "1           1     3934.938291       6.777927      3933.144790       18.923088\n",
       "2           2     3209.631136       3.003971      3207.557249       22.644528\n",
       "3           3     2755.211084       4.255837      2751.847674       24.285607\n",
       "4           4     2469.008491      14.705122      2465.206107        7.476492"
      ]
     },
     "execution_count": 53,
     "metadata": {},
     "output_type": "execute_result"
    }
   ],
   "source": [
    "cv_results = pd.DataFrame(search_results[\"cv_results\"])\n",
    "cv_results.head()"
   ]
  },
  {
   "cell_type": "markdown",
   "metadata": {},
   "source": [
    "### Sanity check with linear regression"
   ]
  },
  {
   "cell_type": "code",
   "execution_count": 54,
   "metadata": {
    "scrolled": true
   },
   "outputs": [
    {
     "name": "stdout",
     "output_type": "stream",
     "text": [
      "Fit time: 8.680\n",
      "Best RMSE score: 2579.841\n",
      "Wall time: 9.25 s\n"
     ]
    }
   ],
   "source": [
    "%%time\n",
    "\n",
    "lr = LinearRegression()\n",
    "scores = cross_validate(lr, features_train, target_train, cv=3, scoring='neg_root_mean_squared_error')\n",
    "print(f\"Fit time: {scores['fit_time'].sum():.3f}\")\n",
    "print(f\"Best RMSE score: {-scores['test_score'].max():.3f}\")"
   ]
  },
  {
   "cell_type": "markdown",
   "metadata": {},
   "source": [
    "### Conclusions\n",
    "\n",
    "* The scaled data and the original data have the same results.\n",
    "* The best model is the CatBoostRegressor with `'depth': 8`, `'iterations': 300`, `'learning_rate': 0.3` and `RMSE: 1397`.\n",
    "* The sanity check RMSE score is 2579 which is lower than the random forest and decision tree models.\n",
    "* I'm sure that I could tune the hyperparameters more to lower the loss function score but it would take a lot of time for each train."
   ]
  },
  {
   "cell_type": "markdown",
   "metadata": {},
   "source": [
    "## Model analysis"
   ]
  },
  {
   "cell_type": "markdown",
   "metadata": {},
   "source": [
    "### Catboost"
   ]
  },
  {
   "cell_type": "code",
   "execution_count": 65,
   "metadata": {
    "scrolled": true
   },
   "outputs": [
    {
     "name": "stdout",
     "output_type": "stream",
     "text": [
      "Wall time: 42.5 s\n"
     ]
    },
    {
     "data": {
      "text/plain": [
       "<catboost.core.CatBoostRegressor at 0x18c88804a60>"
      ]
     },
     "execution_count": 65,
     "metadata": {},
     "output_type": "execute_result"
    }
   ],
   "source": [
    "%%time\n",
    "\n",
    "cat_model = CatBoostRegressor(loss_function='RMSE', logging_level='Silent', iterations=300,\n",
    "                              depth=8, learning_rate=0.3, random_seed=12345, cat_features=cat_cols)\n",
    "cat_model.fit(X_train, y_train)"
   ]
  },
  {
   "cell_type": "code",
   "execution_count": 66,
   "metadata": {
    "scrolled": false
   },
   "outputs": [
    {
     "name": "stdout",
     "output_type": "stream",
     "text": [
      "RMSE: 1541.685\n",
      "Wall time: 53 ms\n"
     ]
    }
   ],
   "source": [
    "%%time\n",
    "y_pred = cat_model.predict(X_test)\n",
    "RMSE = mean_squared_error(y_pred, y_test, squared=False)\n",
    "print(f\"RMSE: {RMSE:.3f}\")"
   ]
  },
  {
   "cell_type": "code",
   "execution_count": 67,
   "metadata": {},
   "outputs": [
    {
     "data": {
      "text/plain": [
       "Text(0.5, 0, 'CatBoost Feature Importance')"
      ]
     },
     "execution_count": 67,
     "metadata": {},
     "output_type": "execute_result"
    },
    {
     "data": {
      "image/png": "[encoded data removed]",
      "text/plain": [
       "<Figure size 504x360 with 1 Axes>"
      ]
     },
     "metadata": {},
     "output_type": "display_data"
    }
   ],
   "source": [
    "# Checking feature importance\n",
    "sorted_feature_importance = cat_model.feature_importances_.argsort()\n",
    "plt.barh(X.columns[sorted_feature_importance], \n",
    "        cat_model.feature_importances_[sorted_feature_importance], \n",
    "        color='turquoise')\n",
    "plt.xlabel(\"CatBoost Feature Importance\")"
   ]
  },
  {
   "cell_type": "code",
   "execution_count": 68,
   "metadata": {
    "scrolled": true
   },
   "outputs": [
    {
     "name": "stdout",
     "output_type": "stream",
     "text": [
      "The median of the car prices is: 3000.0\n"
     ]
    }
   ],
   "source": [
    "print(f'The median of the car prices is: {y.median()}')"
   ]
  },
  {
   "cell_type": "markdown",
   "metadata": {},
   "source": [
    "## Final conclusions\n",
    "* The best model is the cat boost regressor with RMSE of 1541 on the test set.\n",
    "* the RMSE is half the median of the car prices, which is a lot.\n",
    "* The results could be improved with deeper hyperparameters tuning but it will take much more time to train the models.\n",
    "* For this results it will take (on my system) 8 seconds to train the catboost model."
   ]
  }
 ],
 "metadata": {
  "ExecuteTimeLog": [
   {
    "duration": 52,
    "start_time": "2022-08-09T16:50:20.856Z"
   },
   {
    "duration": 0,
    "start_time": "2022-08-09T16:50:20.910Z"
   },
   {
    "duration": 0,
    "start_time": "2022-08-09T16:50:20.912Z"
   },
   {
    "duration": 0,
    "start_time": "2022-08-09T16:50:20.913Z"
   },
   {
    "duration": 0,
    "start_time": "2022-08-09T16:50:20.915Z"
   },
   {
    "duration": 0,
    "start_time": "2022-08-09T16:50:20.916Z"
   },
   {
    "duration": 0,
    "start_time": "2022-08-09T16:50:20.917Z"
   },
   {
    "duration": 0,
    "start_time": "2022-08-09T16:50:20.919Z"
   },
   {
    "duration": 1,
    "start_time": "2022-08-09T16:50:20.920Z"
   },
   {
    "duration": 0,
    "start_time": "2022-08-09T16:50:20.922Z"
   },
   {
    "duration": 0,
    "start_time": "2022-08-09T16:50:20.923Z"
   },
   {
    "duration": 0,
    "start_time": "2022-08-09T16:50:20.925Z"
   },
   {
    "duration": 0,
    "start_time": "2022-08-09T16:50:20.926Z"
   },
   {
    "duration": 0,
    "start_time": "2022-08-09T16:50:20.928Z"
   },
   {
    "duration": 0,
    "start_time": "2022-08-09T16:50:20.929Z"
   },
   {
    "duration": 0,
    "start_time": "2022-08-09T16:50:20.930Z"
   },
   {
    "duration": 0,
    "start_time": "2022-08-09T16:50:20.931Z"
   },
   {
    "duration": 0,
    "start_time": "2022-08-09T16:50:20.932Z"
   },
   {
    "duration": 0,
    "start_time": "2022-08-09T16:50:20.933Z"
   },
   {
    "duration": 0,
    "start_time": "2022-08-09T16:50:20.934Z"
   },
   {
    "duration": 0,
    "start_time": "2022-08-09T16:50:20.935Z"
   },
   {
    "duration": 0,
    "start_time": "2022-08-09T16:50:20.936Z"
   },
   {
    "duration": 0,
    "start_time": "2022-08-09T16:50:20.937Z"
   },
   {
    "duration": 0,
    "start_time": "2022-08-09T16:50:20.938Z"
   },
   {
    "duration": 0,
    "start_time": "2022-08-09T16:50:20.939Z"
   },
   {
    "duration": 0,
    "start_time": "2022-08-09T16:50:20.940Z"
   },
   {
    "duration": 0,
    "start_time": "2022-08-09T16:50:20.941Z"
   },
   {
    "duration": 0,
    "start_time": "2022-08-09T16:50:20.942Z"
   },
   {
    "duration": 0,
    "start_time": "2022-08-09T16:50:20.943Z"
   },
   {
    "duration": 0,
    "start_time": "2022-08-09T16:50:20.944Z"
   },
   {
    "duration": 43,
    "start_time": "2022-08-09T16:50:20.993Z"
   },
   {
    "duration": 1,
    "start_time": "2022-08-09T16:50:21.038Z"
   },
   {
    "duration": 0,
    "start_time": "2022-08-09T16:50:21.039Z"
   },
   {
    "duration": 0,
    "start_time": "2022-08-09T16:50:21.041Z"
   },
   {
    "duration": 1,
    "start_time": "2022-08-09T16:50:21.041Z"
   },
   {
    "duration": 0,
    "start_time": "2022-08-09T16:50:21.043Z"
   },
   {
    "duration": 0,
    "start_time": "2022-08-09T16:50:21.087Z"
   },
   {
    "duration": 0,
    "start_time": "2022-08-09T16:50:21.088Z"
   },
   {
    "duration": 0,
    "start_time": "2022-08-09T16:50:21.089Z"
   },
   {
    "duration": 0,
    "start_time": "2022-08-09T16:50:21.090Z"
   },
   {
    "duration": 0,
    "start_time": "2022-08-09T16:50:21.091Z"
   },
   {
    "duration": 0,
    "start_time": "2022-08-09T16:50:21.092Z"
   },
   {
    "duration": 0,
    "start_time": "2022-08-09T16:50:21.093Z"
   },
   {
    "duration": 0,
    "start_time": "2022-08-09T16:50:21.094Z"
   },
   {
    "duration": 0,
    "start_time": "2022-08-09T16:50:21.095Z"
   },
   {
    "duration": 0,
    "start_time": "2022-08-09T16:50:21.096Z"
   },
   {
    "duration": 0,
    "start_time": "2022-08-09T16:50:21.097Z"
   },
   {
    "duration": 0,
    "start_time": "2022-08-09T16:50:21.098Z"
   },
   {
    "duration": 0,
    "start_time": "2022-08-09T16:50:21.099Z"
   },
   {
    "duration": 0,
    "start_time": "2022-08-09T16:50:21.100Z"
   },
   {
    "duration": 53,
    "start_time": "2022-08-09T16:50:57.539Z"
   },
   {
    "duration": 56,
    "start_time": "2022-08-09T16:51:34.968Z"
   },
   {
    "duration": 51,
    "start_time": "2022-08-09T16:52:01.731Z"
   },
   {
    "duration": 43,
    "start_time": "2022-08-09T16:52:06.433Z"
   },
   {
    "duration": 1536,
    "start_time": "2022-08-09T16:52:07.486Z"
   },
   {
    "duration": 4,
    "start_time": "2022-08-09T16:52:17.343Z"
   },
   {
    "duration": 1413,
    "start_time": "2022-08-09T16:52:35.338Z"
   },
   {
    "duration": 981,
    "start_time": "2022-08-09T16:52:36.753Z"
   },
   {
    "duration": 365,
    "start_time": "2022-08-09T16:52:37.736Z"
   },
   {
    "duration": 16,
    "start_time": "2022-08-09T16:52:38.103Z"
   },
   {
    "duration": 45160,
    "start_time": "2022-08-09T16:52:38.121Z"
   },
   {
    "duration": 16,
    "start_time": "2022-08-09T16:53:23.283Z"
   },
   {
    "duration": 33,
    "start_time": "2022-08-09T16:53:23.300Z"
   },
   {
    "duration": 34,
    "start_time": "2022-08-09T16:53:23.335Z"
   },
   {
    "duration": 45,
    "start_time": "2022-08-09T16:53:23.371Z"
   },
   {
    "duration": 174,
    "start_time": "2022-08-09T16:53:23.418Z"
   },
   {
    "duration": 38,
    "start_time": "2022-08-09T16:53:23.594Z"
   },
   {
    "duration": 54,
    "start_time": "2022-08-09T16:53:23.633Z"
   },
   {
    "duration": 120,
    "start_time": "2022-08-09T16:53:23.688Z"
   },
   {
    "duration": 0,
    "start_time": "2022-08-09T16:53:23.810Z"
   },
   {
    "duration": 0,
    "start_time": "2022-08-09T16:53:23.811Z"
   },
   {
    "duration": 0,
    "start_time": "2022-08-09T16:53:23.812Z"
   },
   {
    "duration": 0,
    "start_time": "2022-08-09T16:53:23.813Z"
   },
   {
    "duration": 0,
    "start_time": "2022-08-09T16:53:23.814Z"
   },
   {
    "duration": 0,
    "start_time": "2022-08-09T16:53:23.815Z"
   },
   {
    "duration": 0,
    "start_time": "2022-08-09T16:53:23.816Z"
   },
   {
    "duration": 0,
    "start_time": "2022-08-09T16:53:23.817Z"
   },
   {
    "duration": 0,
    "start_time": "2022-08-09T16:53:23.818Z"
   },
   {
    "duration": 0,
    "start_time": "2022-08-09T16:53:23.819Z"
   },
   {
    "duration": 0,
    "start_time": "2022-08-09T16:53:23.820Z"
   },
   {
    "duration": 0,
    "start_time": "2022-08-09T16:53:23.821Z"
   },
   {
    "duration": 0,
    "start_time": "2022-08-09T16:53:23.822Z"
   },
   {
    "duration": 0,
    "start_time": "2022-08-09T16:53:23.823Z"
   },
   {
    "duration": 0,
    "start_time": "2022-08-09T16:53:23.824Z"
   },
   {
    "duration": 0,
    "start_time": "2022-08-09T16:53:23.825Z"
   },
   {
    "duration": 0,
    "start_time": "2022-08-09T16:53:23.826Z"
   },
   {
    "duration": 0,
    "start_time": "2022-08-09T16:53:23.827Z"
   },
   {
    "duration": 0,
    "start_time": "2022-08-09T16:53:23.828Z"
   },
   {
    "duration": 0,
    "start_time": "2022-08-09T16:53:23.829Z"
   },
   {
    "duration": 0,
    "start_time": "2022-08-09T16:53:23.830Z"
   },
   {
    "duration": 0,
    "start_time": "2022-08-09T16:53:23.831Z"
   },
   {
    "duration": 0,
    "start_time": "2022-08-09T16:53:23.832Z"
   },
   {
    "duration": 0,
    "start_time": "2022-08-09T16:53:23.833Z"
   },
   {
    "duration": 0,
    "start_time": "2022-08-09T16:53:23.834Z"
   },
   {
    "duration": 0,
    "start_time": "2022-08-09T16:53:23.835Z"
   },
   {
    "duration": 0,
    "start_time": "2022-08-09T16:53:23.836Z"
   },
   {
    "duration": 0,
    "start_time": "2022-08-09T16:53:23.837Z"
   },
   {
    "duration": 0,
    "start_time": "2022-08-09T16:53:23.838Z"
   },
   {
    "duration": 0,
    "start_time": "2022-08-09T16:53:23.839Z"
   },
   {
    "duration": 0,
    "start_time": "2022-08-09T16:53:23.887Z"
   },
   {
    "duration": 0,
    "start_time": "2022-08-09T16:53:23.888Z"
   },
   {
    "duration": 0,
    "start_time": "2022-08-09T16:53:23.889Z"
   },
   {
    "duration": 0,
    "start_time": "2022-08-09T16:53:23.890Z"
   },
   {
    "duration": 0,
    "start_time": "2022-08-09T16:53:23.891Z"
   },
   {
    "duration": 0,
    "start_time": "2022-08-09T16:53:23.892Z"
   },
   {
    "duration": 116,
    "start_time": "2022-08-09T16:55:35.019Z"
   },
   {
    "duration": 119,
    "start_time": "2022-08-09T16:55:43.210Z"
   },
   {
    "duration": 144,
    "start_time": "2022-08-09T16:55:43.331Z"
   },
   {
    "duration": 2,
    "start_time": "2022-08-09T16:55:43.476Z"
   },
   {
    "duration": 2,
    "start_time": "2022-08-09T16:55:43.486Z"
   },
   {
    "duration": 5,
    "start_time": "2022-08-09T16:55:43.489Z"
   },
   {
    "duration": 112,
    "start_time": "2022-08-09T16:55:43.495Z"
   },
   {
    "duration": 79,
    "start_time": "2022-08-09T16:55:43.609Z"
   },
   {
    "duration": 104,
    "start_time": "2022-08-09T16:55:43.690Z"
   },
   {
    "duration": 3,
    "start_time": "2022-08-09T16:55:43.796Z"
   },
   {
    "duration": 18,
    "start_time": "2022-08-09T16:55:43.802Z"
   },
   {
    "duration": 173,
    "start_time": "2022-08-09T16:55:43.821Z"
   },
   {
    "duration": 177,
    "start_time": "2022-08-09T16:55:43.995Z"
   },
   {
    "duration": 127,
    "start_time": "2022-08-09T16:55:44.173Z"
   },
   {
    "duration": 4,
    "start_time": "2022-08-09T16:55:44.301Z"
   },
   {
    "duration": 91786,
    "start_time": "2022-08-09T16:55:44.306Z"
   },
   {
    "duration": 58,
    "start_time": "2022-08-09T16:57:16.094Z"
   },
   {
    "duration": 15,
    "start_time": "2022-08-09T16:57:16.154Z"
   },
   {
    "duration": 12,
    "start_time": "2022-08-09T16:57:16.190Z"
   },
   {
    "duration": 685,
    "start_time": "2022-08-09T16:57:16.204Z"
   },
   {
    "duration": 371,
    "start_time": "2022-08-09T16:57:16.890Z"
   },
   {
    "duration": 5,
    "start_time": "2022-08-09T16:57:17.263Z"
   },
   {
    "duration": 150156,
    "start_time": "2022-08-09T16:57:17.270Z"
   },
   {
    "duration": 2,
    "start_time": "2022-08-09T16:59:47.428Z"
   },
   {
    "duration": 157392,
    "start_time": "2022-08-09T16:59:47.431Z"
   },
   {
    "duration": 17535,
    "start_time": "2022-08-09T17:02:24.825Z"
   },
   {
    "duration": 5511,
    "start_time": "2022-08-09T17:02:42.362Z"
   },
   {
    "duration": 8,
    "start_time": "2022-08-09T17:02:47.875Z"
   },
   {
    "duration": 0,
    "start_time": "2022-08-09T17:02:47.885Z"
   },
   {
    "duration": 0,
    "start_time": "2022-08-09T17:02:47.886Z"
   },
   {
    "duration": 0,
    "start_time": "2022-08-09T17:02:47.887Z"
   },
   {
    "duration": 0,
    "start_time": "2022-08-09T17:02:47.888Z"
   },
   {
    "duration": 0,
    "start_time": "2022-08-09T17:02:47.889Z"
   },
   {
    "duration": 0,
    "start_time": "2022-08-09T17:02:47.891Z"
   },
   {
    "duration": 0,
    "start_time": "2022-08-09T17:02:47.891Z"
   },
   {
    "duration": 0,
    "start_time": "2022-08-09T17:02:47.893Z"
   },
   {
    "duration": 0,
    "start_time": "2022-08-09T17:02:47.894Z"
   },
   {
    "duration": 0,
    "start_time": "2022-08-09T17:02:47.895Z"
   },
   {
    "duration": 0,
    "start_time": "2022-08-09T17:02:47.900Z"
   },
   {
    "duration": 0,
    "start_time": "2022-08-09T17:02:47.902Z"
   },
   {
    "duration": 0,
    "start_time": "2022-08-09T17:02:47.904Z"
   },
   {
    "duration": 3,
    "start_time": "2022-08-09T17:02:49.677Z"
   },
   {
    "duration": 1606,
    "start_time": "2022-08-09T17:02:50.729Z"
   },
   {
    "duration": 4,
    "start_time": "2022-08-09T17:03:24.755Z"
   },
   {
    "duration": 2174,
    "start_time": "2022-08-09T17:03:36.365Z"
   },
   {
    "duration": 4,
    "start_time": "2022-08-09T17:03:57.658Z"
   },
   {
    "duration": 2195,
    "start_time": "2022-08-09T17:03:58.334Z"
   },
   {
    "duration": 70,
    "start_time": "2022-08-09T17:04:28.673Z"
   },
   {
    "duration": 1806,
    "start_time": "2022-08-09T17:04:33.014Z"
   },
   {
    "duration": 42,
    "start_time": "2022-08-09T17:05:02.816Z"
   },
   {
    "duration": 14,
    "start_time": "2022-08-09T17:05:02.860Z"
   },
   {
    "duration": 16,
    "start_time": "2022-08-09T17:05:02.875Z"
   },
   {
    "duration": 328,
    "start_time": "2022-08-09T17:05:02.893Z"
   },
   {
    "duration": 243,
    "start_time": "2022-08-09T17:05:03.223Z"
   },
   {
    "duration": 3,
    "start_time": "2022-08-09T17:05:03.468Z"
   },
   {
    "duration": 93403,
    "start_time": "2022-08-09T17:05:03.473Z"
   },
   {
    "duration": 3,
    "start_time": "2022-08-09T17:06:36.877Z"
   },
   {
    "duration": 189109,
    "start_time": "2022-08-09T17:06:36.886Z"
   },
   {
    "duration": 162096,
    "start_time": "2022-08-09T17:09:45.996Z"
   },
   {
    "duration": 99402,
    "start_time": "2022-08-09T17:12:28.094Z"
   },
   {
    "duration": 11,
    "start_time": "2022-08-09T17:14:07.498Z"
   },
   {
    "duration": 28482,
    "start_time": "2022-08-09T17:14:07.511Z"
   },
   {
    "duration": 673,
    "start_time": "2022-08-09T17:14:35.999Z"
   },
   {
    "duration": 84,
    "start_time": "2022-08-09T17:14:36.674Z"
   },
   {
    "duration": 506,
    "start_time": "2022-08-09T17:14:36.760Z"
   },
   {
    "duration": 83,
    "start_time": "2022-08-09T17:14:37.268Z"
   },
   {
    "duration": 3643,
    "start_time": "2022-08-09T17:14:37.353Z"
   },
   {
    "duration": 394,
    "start_time": "2022-08-09T17:14:40.998Z"
   },
   {
    "duration": 9258,
    "start_time": "2022-08-09T17:14:41.394Z"
   },
   {
    "duration": 65,
    "start_time": "2022-08-09T17:14:50.653Z"
   },
   {
    "duration": 8,
    "start_time": "2022-08-09T17:14:50.720Z"
   }
  ],
  "kernelspec": {
   "display_name": "Python 3 (ipykernel)",
   "language": "python",
   "name": "python3"
  },
  "language_info": {
   "codemirror_mode": {
    "name": "ipython",
    "version": 3
   },
   "file_extension": ".py",
   "mimetype": "text/x-python",
   "name": "python",
   "nbconvert_exporter": "python",
   "pygments_lexer": "ipython3",
   "version": "3.9.7"
  },
  "toc": {
   "base_numbering": 1,
   "nav_menu": {},
   "number_sections": true,
   "sideBar": true,
   "skip_h1_title": true,
   "title_cell": "Table of Contents",
   "title_sidebar": "Contents",
   "toc_cell": false,
   "toc_position": {
    "height": "calc(100% - 180px)",
    "left": "10px",
    "top": "150px",
    "width": "219.417px"
   },
   "toc_section_display": true,
   "toc_window_display": true
  }
 },
 "nbformat": 4,
 "nbformat_minor": 2
}
